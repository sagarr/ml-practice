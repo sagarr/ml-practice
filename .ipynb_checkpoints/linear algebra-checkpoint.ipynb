{
 "cells": [
  {
   "cell_type": "code",
   "execution_count": 1,
   "metadata": {},
   "outputs": [],
   "source": [
    "import numpy as np"
   ]
  },
  {
   "cell_type": "markdown",
   "metadata": {},
   "source": [
    "# matrices addition"
   ]
  },
  {
   "cell_type": "code",
   "execution_count": 8,
   "metadata": {},
   "outputs": [
    {
     "name": "stdout",
     "output_type": "stream",
     "text": [
      "[[0 5]\n",
      " [8 8]]\n",
      "[[1 7]\n",
      " [0 2]]\n",
      "[[ 1 12]\n",
      " [ 8 10]]\n"
     ]
    }
   ],
   "source": [
    "A = np.random.randint(10, size=(2, 2))\n",
    "B = np.random.randint(10, size=(2, 2))\n",
    "\n",
    "print(A); print(B)\n",
    "print(A + B)"
   ]
  },
  {
   "cell_type": "markdown",
   "metadata": {},
   "source": [
    "# matrics substraction"
   ]
  },
  {
   "cell_type": "code",
   "execution_count": 10,
   "metadata": {},
   "outputs": [
    {
     "name": "stdout",
     "output_type": "stream",
     "text": [
      "[[6 0]\n",
      " [6 7]]\n",
      "[[4 5]\n",
      " [7 0]]\n",
      "[[ 2 -5]\n",
      " [-1  7]]\n"
     ]
    }
   ],
   "source": [
    "A = np.random.randint(10, size=(2, 2))\n",
    "B = np.random.randint(10, size=(2, 2))\n",
    "\n",
    "print(A); print(B)\n",
    "print(A - B)"
   ]
  },
  {
   "cell_type": "markdown",
   "metadata": {},
   "source": [
    "# Transpose"
   ]
  },
  {
   "cell_type": "code",
   "execution_count": 13,
   "metadata": {},
   "outputs": [
    {
     "name": "stdout",
     "output_type": "stream",
     "text": [
      "[[7 8 5 8]\n",
      " [1 0 5 2]]\n",
      "[[7 1]\n",
      " [8 0]\n",
      " [5 5]\n",
      " [8 2]]\n"
     ]
    }
   ],
   "source": [
    "A = np.random.randint(10, size=(2, 4))\n",
    "print(A)\n",
    "print(A.T)"
   ]
  },
  {
   "cell_type": "markdown",
   "metadata": {},
   "source": [
    "# Multiplication"
   ]
  },
  {
   "cell_type": "code",
   "execution_count": 22,
   "metadata": {},
   "outputs": [
    {
     "name": "stdout",
     "output_type": "stream",
     "text": [
      "[[9 6]\n",
      " [4 1]\n",
      " [5 1]] (3, 2)\n",
      "[[2 4 8 5]\n",
      " [5 5 0 8]] (2, 4)\n",
      "[[48 66 72 93]\n",
      " [13 21 32 28]\n",
      " [15 25 40 33]]\n"
     ]
    }
   ],
   "source": [
    "A = np.random.randint(10, size=(3, 2))\n",
    "B = np.random.randint(10, size=(2, 4))\n",
    "\n",
    "print(A, A.shape); print(B, B.shape)\n",
    "\n",
    "print(np.dot(A, B))"
   ]
  },
  {
   "cell_type": "markdown",
   "metadata": {},
   "source": [
    "# Inverse"
   ]
  },
  {
   "cell_type": "code",
   "execution_count": 25,
   "metadata": {},
   "outputs": [
    {
     "name": "stdout",
     "output_type": "stream",
     "text": [
      "[[4 9 6 6]\n",
      " [6 2 6 1]\n",
      " [4 2 7 6]\n",
      " [2 1 9 9]]\n",
      "[[-0.09513274 -0.1659292   0.82964602 -0.47123894]\n",
      " [ 0.15044248  0.05309735 -0.26548673  0.07079646]\n",
      " [ 0.05309735  0.37168142 -0.85840708  0.49557522]\n",
      " [-0.04867257 -0.34070796  0.70353982 -0.28761062]]\n"
     ]
    }
   ],
   "source": [
    "A = np.random.randint(10, size=(4, 4))\n",
    "print(A)\n",
    "print(np.linalg.inv(A))"
   ]
  },
  {
   "cell_type": "markdown",
   "metadata": {},
   "source": [
    "# Determinant"
   ]
  },
  {
   "cell_type": "code",
   "execution_count": 30,
   "metadata": {},
   "outputs": [
    {
     "name": "stdout",
     "output_type": "stream",
     "text": [
      "[[9 8]\n",
      " [8 9]]\n",
      "17.00000000000001\n"
     ]
    }
   ],
   "source": [
    "A = np.random.randint(10, size=(2, 2))\n",
    "print(A)\n",
    "print(np.linalg.det(A))"
   ]
  }
 ],
 "metadata": {
  "kernelspec": {
   "display_name": "Python 3",
   "language": "python",
   "name": "python3"
  },
  "language_info": {
   "codemirror_mode": {
    "name": "ipython",
    "version": 3
   },
   "file_extension": ".py",
   "mimetype": "text/x-python",
   "name": "python",
   "nbconvert_exporter": "python",
   "pygments_lexer": "ipython3",
   "version": "3.5.2"
  }
 },
 "nbformat": 4,
 "nbformat_minor": 2
}
