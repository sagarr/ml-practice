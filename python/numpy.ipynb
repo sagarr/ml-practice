{
 "cells": [
  {
   "cell_type": "markdown",
   "metadata": {},
   "source": [
    "# Python\n",
    "\n",
    "## Python read like psudocode, see quick sort example"
   ]
  },
  {
   "cell_type": "code",
   "execution_count": 1,
   "metadata": {},
   "outputs": [
    {
     "data": {
      "text/plain": [
       "[1, 1, 23, 23, 64, 64]"
      ]
     },
     "execution_count": 1,
     "metadata": {},
     "output_type": "execute_result"
    }
   ],
   "source": [
    "def quicksort(a):\n",
    "    if len(a) <= 1:\n",
    "        return a\n",
    "    pivot = a[len(a) // 2]\n",
    "    \n",
    "    upper = [x for x in a if x < pivot]\n",
    "    middle = [x for x in a if x == pivot]\n",
    "    lower = [x for x in a if x > pivot]\n",
    "    \n",
    "    return quicksort(upper) + middle + quicksort(middle)\n",
    "\n",
    "quicksort([3, 62, 23, 64, 1, 34])"
   ]
  },
  {
   "cell_type": "markdown",
   "metadata": {},
   "source": [
    "## Sliciing"
   ]
  },
  {
   "cell_type": "code",
   "execution_count": 2,
   "metadata": {},
   "outputs": [
    {
     "name": "stdout",
     "output_type": "stream",
     "text": [
      "[0, 1, 2, 3, 4]\n",
      "[2, 3]\n",
      "[2, 3, 4]\n",
      "[0, 1, 2]\n",
      "[0, 1, 2, 3]\n",
      "[0, 1, 2, 3, 4]\n"
     ]
    }
   ],
   "source": [
    "xs = list(range(5))\n",
    "print(xs)\n",
    "\n",
    "print(xs[2:4])\n",
    "print(xs[2:])\n",
    "print(xs[:3])\n",
    "print(xs[:-1])\n",
    "print(xs[:])"
   ]
  },
  {
   "cell_type": "markdown",
   "metadata": {},
   "source": [
    "# NumPy"
   ]
  },
  {
   "cell_type": "markdown",
   "metadata": {},
   "source": [
    "## Initlize numpy array using python list"
   ]
  },
  {
   "cell_type": "code",
   "execution_count": 3,
   "metadata": {},
   "outputs": [
    {
     "name": "stdout",
     "output_type": "stream",
     "text": [
      "(3,)\n",
      "2\n",
      "[3 2 3]\n",
      "(2, 3)\n",
      "1\n"
     ]
    }
   ],
   "source": [
    "import numpy as np\n",
    "\n",
    "a = np.array([1, 2, 3])\n",
    "print(a.shape)\n",
    "print(a[1])\n",
    "\n",
    "a[0]=3\n",
    "print(a)\n",
    "\n",
    "b = np.array([[1, 3, 4], [1, 3, 1]])\n",
    "print(b.shape)\n",
    "print(b[0, 0])"
   ]
  },
  {
   "cell_type": "markdown",
   "metadata": {},
   "source": [
    "## some numpy functions to create array"
   ]
  },
  {
   "cell_type": "code",
   "execution_count": 4,
   "metadata": {},
   "outputs": [
    {
     "name": "stdout",
     "output_type": "stream",
     "text": [
      "[[0. 0.]\n",
      " [0. 0.]]\n",
      "[[1. 1. 1.]\n",
      " [1. 1. 1.]]\n",
      "[[8 8]\n",
      " [8 8]]\n",
      "[[1. 0.]\n",
      " [0. 1.]]\n",
      "[[0.69490631 0.36480658 0.13441423]\n",
      " [0.33390743 0.18536408 0.7175147 ]]\n"
     ]
    }
   ],
   "source": [
    "a = np.zeros((2, 2))\n",
    "print(a)\n",
    "\n",
    "b = np.ones((2, 3))\n",
    "print(b)\n",
    "\n",
    "# create constant array\n",
    "c = np.full((2, 2), 8)\n",
    "print(c)\n",
    "\n",
    "# identity matrix\n",
    "d = np.eye(2)\n",
    "print(d)\n",
    "\n",
    "e = np.random.random((2, 3))\n",
    "print(e)"
   ]
  },
  {
   "cell_type": "markdown",
   "metadata": {},
   "source": [
    "## array indexing - slicing"
   ]
  },
  {
   "cell_type": "code",
   "execution_count": 5,
   "metadata": {},
   "outputs": [
    {
     "name": "stdout",
     "output_type": "stream",
     "text": [
      "[[1 8 7]\n",
      " [1 2 7]\n",
      " [5 5 7]]\n",
      "[[1 8]\n",
      " [1 2]]\n",
      "1\n",
      "10\n"
     ]
    }
   ],
   "source": [
    "a = np.random.randint(1, high=10, size=(3, 3))\n",
    "print(a)\n",
    "\n",
    "# Use slicing to pull out the subarray consisting of the first 2 rows and columns 1 and 2\n",
    "b = a[:2,:2]\n",
    "print(b)\n",
    "\n",
    "# A slice of an array is a view into the same data, so modifying it will modify the original array.\n",
    "print(a[0, 0])\n",
    "b[0][0] = 10\n",
    "print(a[0][0])"
   ]
  },
  {
   "cell_type": "markdown",
   "metadata": {},
   "source": [
    "we can mix array indexing with slice indexing, but using array indexing results in array of lower rank"
   ]
  },
  {
   "cell_type": "code",
   "execution_count": 6,
   "metadata": {},
   "outputs": [
    {
     "name": "stdout",
     "output_type": "stream",
     "text": [
      "[[5 8 2 3]\n",
      " [1 2 9 6]\n",
      " [6 7 7 1]\n",
      " [9 4 5 9]]\n",
      "[1 2 9 6]\n",
      "(4,)\n",
      "[[1 2 9 6]]\n",
      "(1, 4)\n",
      "[8 2 7 4]\n",
      "(4,)\n",
      "[[8]\n",
      " [2]\n",
      " [7]\n",
      " [4]]\n",
      "(4, 1)\n"
     ]
    }
   ],
   "source": [
    "a = np.random.randint(1, 10, (4, 4))\n",
    "print(a)\n",
    "\n",
    "# 2 ways to acces second row, one using index and second one is using slice\n",
    "r2_1 = a[1, :]\n",
    "r2_2 = a[1:2, :]\n",
    "print(r2_1);print(r2_1.shape) # yeilds array os ower rank\n",
    "print(r2_2);print(r2_2.shape) # same rank as original array\n",
    "\n",
    "# same thing happen with column\n",
    "c2_1 = a[:, 1]\n",
    "c2_2 = a[:, 1:2]\n",
    "print(c2_1);print(c2_1.shape)\n",
    "print(c2_2);print(c2_2.shape)"
   ]
  },
  {
   "cell_type": "markdown",
   "metadata": {},
   "source": [
    "### One useful trick with integer array indexing is selecting or mutating one element from each row of a matrix:"
   ]
  },
  {
   "cell_type": "code",
   "execution_count": 7,
   "metadata": {},
   "outputs": [
    {
     "name": "stdout",
     "output_type": "stream",
     "text": [
      "[[8 8 2]\n",
      " [6 4 9]\n",
      " [1 9 2]]\n",
      "[8 9 9]\n",
      "[[18  8  2]\n",
      " [ 6  4 19]\n",
      " [ 1 19  2]]\n"
     ]
    }
   ],
   "source": [
    "a = np.random.randint(1, 10, (3,3))\n",
    "print(a)\n",
    "\n",
    "# create array of indices\n",
    "b = np.array([0, 2, 1])\n",
    "\n",
    "# select one element from each row using indices in b\n",
    "print(a[np.arange(3), b])\n",
    "\n",
    "# mutate each one element from a using index from b\n",
    "a[np.arange(3), b] += 10\n",
    "print(a)"
   ]
  },
  {
   "cell_type": "markdown",
   "metadata": {},
   "source": [
    "## Boolean array indexing\n",
    "\n",
    "### this indexing used to select array elments which satisfy some condition on array"
   ]
  },
  {
   "cell_type": "code",
   "execution_count": 8,
   "metadata": {},
   "outputs": [
    {
     "name": "stdout",
     "output_type": "stream",
     "text": [
      "[[9 2 2]\n",
      " [9 1 9]\n",
      " [5 2 7]]\n",
      "[[ True False False]\n",
      " [ True False  True]\n",
      " [ True False  True]]\n",
      "[9 9 9 5 7]\n",
      "[9 9 9 5 7]\n"
     ]
    }
   ],
   "source": [
    "a = np.random.randint(1, 10, (3, 3))\n",
    "print(a)\n",
    "\n",
    "# find array elements > 2, this will return boolean array same rank as original array, the True value means\n",
    "# condition satisy at that index\n",
    "bool_idx = a > 2\n",
    "print(bool_idx)\n",
    "\n",
    "# print rank 1 array consisting elemtns corresponding to the True\n",
    "print(a[bool_idx])\n",
    "\n",
    "# one liner\n",
    "print(a[a > 2])"
   ]
  },
  {
   "cell_type": "markdown",
   "metadata": {},
   "source": [
    "# Array Math"
   ]
  },
  {
   "cell_type": "code",
   "execution_count": 18,
   "metadata": {},
   "outputs": [
    {
     "name": "stdout",
     "output_type": "stream",
     "text": [
      "[[8 7]\n",
      " [5 5]]\n",
      "[[1 4]\n",
      " [8 7]]\n",
      "[[ 9 11]\n",
      " [13 12]]\n",
      "[[ 9 11]\n",
      " [13 12]]\n",
      "\n",
      "[[ 8 28]\n",
      " [40 35]]\n",
      "\n",
      "[[64 81]\n",
      " [45 55]]\n",
      "25\n",
      "[[8 5]\n",
      " [7 5]]\n"
     ]
    }
   ],
   "source": [
    "a = np.random.randint(1, 10, (2,2))\n",
    "b = np.random.randint(1, 10, (2,2))\n",
    "print(a);print(b)\n",
    "\n",
    "print(a+b);print(np.add(a, b))\n",
    "\n",
    "# element wise multiplication\n",
    "print()\n",
    "print(a * b)\n",
    "\n",
    "# dot product\n",
    "print()\n",
    "print(a.dot(b))\n",
    "\n",
    "print(np.sum(a))\n",
    "\n",
    "print(a.T)"
   ]
  },
  {
   "cell_type": "markdown",
   "metadata": {},
   "source": [
    "# Broadcast"
   ]
  },
  {
   "cell_type": "code",
   "execution_count": 25,
   "metadata": {},
   "outputs": [
    {
     "name": "stdout",
     "output_type": "stream",
     "text": [
      "[3 2 1]\n",
      "(3,)\n",
      "[[3]\n",
      " [2]\n",
      " [1]]\n",
      "(3, 1)\n",
      "\n",
      "[1 2]\n",
      "(2,)\n",
      "\n",
      "[[3 6]\n",
      " [2 4]\n",
      " [1 2]]\n"
     ]
    }
   ],
   "source": [
    "v = np.array([3, 2, 1])\n",
    "w = np.array([1, 2])\n",
    "\n",
    "print(v); print(v.shape)\n",
    "v = v.reshape(3, 1)\n",
    "print(v);print(v.shape)\n",
    "\n",
    "print()\n",
    "print(w);print(w.shape)\n",
    "\n",
    "print()\n",
    "print(v * w)"
   ]
  }
 ],
 "metadata": {
  "kernelspec": {
   "display_name": "Python [conda env:anaconda3]",
   "language": "python",
   "name": "conda-env-anaconda3-py"
  },
  "language_info": {
   "codemirror_mode": {
    "name": "ipython",
    "version": 3
   },
   "file_extension": ".py",
   "mimetype": "text/x-python",
   "name": "python",
   "nbconvert_exporter": "python",
   "pygments_lexer": "ipython3",
   "version": "3.6.5"
  }
 },
 "nbformat": 4,
 "nbformat_minor": 2
}
