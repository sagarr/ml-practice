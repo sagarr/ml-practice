{
 "cells": [
  {
   "cell_type": "code",
   "execution_count": 2,
   "metadata": {},
   "outputs": [],
   "source": [
    "import numpy as np\n",
    "import math"
   ]
  },
  {
   "cell_type": "code",
   "execution_count": 3,
   "metadata": {},
   "outputs": [],
   "source": [
    "input = np.array([0.1, 0.3, 0.6])\n",
    "\n",
    "# randomanly intilzed weights, 3 layer - 3 weights\n",
    "wij = np.array([[0.1, 0.5, 0.6], [0.5, 0.2, 0.6], [0.6, 0.9, 0.2]])\n",
    "wjk = np.array([[0.1, 0.5, 0.6], [0.5, 0.2, 0.6], [0.6, 0.9, 0.2]])\n",
    "wkl = np.array([[0.1, 0.5, 0.6], [0.5, 0.2, 0.6], [0.6, 0.9, 0.2]])\n",
    "\n",
    "output = np.array([1.0, 0.0, 0.0])\n",
    "\n",
    "bias = [1.0, 1.0, 1.0]"
   ]
  },
  {
   "cell_type": "markdown",
   "metadata": {},
   "source": [
    "# Layer 1 Calculation with RELU"
   ]
  },
  {
   "cell_type": "code",
   "execution_count": 4,
   "metadata": {},
   "outputs": [
    {
     "data": {
      "text/plain": [
       "[1.52, 1.65, 1.3599999999999999]"
      ]
     },
     "execution_count": 4,
     "metadata": {},
     "output_type": "execute_result"
    }
   ],
   "source": [
    "# matrix operation\n",
    "\n",
    "l1_in = np.dot(input, wij) + bias\n",
    "\n",
    "def relu(x):\n",
    "    return max(0, x)\n",
    "\n",
    "l1_out = [relu(x) for x in l1_in]\n",
    "l1_out"
   ]
  },
  {
   "cell_type": "markdown",
   "metadata": {},
   "source": [
    "# Layer 2 Calculation with Sigmoid"
   ]
  },
  {
   "cell_type": "code",
   "execution_count": 5,
   "metadata": {},
   "outputs": [
    {
     "data": {
      "text/plain": [
       "[0.9422963830615955, 0.9649059826766967, 0.9598440423042384]"
      ]
     },
     "execution_count": 5,
     "metadata": {},
     "output_type": "execute_result"
    }
   ],
   "source": [
    "l2_in = np.dot(l1_out, wjk) + bias\n",
    "\n",
    "def sigmoid(x):\n",
    "    return 1/(1 + math.exp(-x))\n",
    "\n",
    "l2_out = [sigmoid(x) for x in l2_in]\n",
    "l2_out"
   ]
  },
  {
   "cell_type": "markdown",
   "metadata": {},
   "source": [
    "# Output Layer Calculation"
   ]
  },
  {
   "cell_type": "code",
   "execution_count": 6,
   "metadata": {},
   "outputs": [
    {
     "data": {
      "text/plain": [
       "[0.28507102779872084, 0.41494182956275727, 0.34255750535021046]"
      ]
     },
     "execution_count": 6,
     "metadata": {},
     "output_type": "execute_result"
    }
   ],
   "source": [
    "out_in = np.dot(l2_out, wkl) + bias\n",
    "\n",
    "def softmax(x):\n",
    "    return math.exp(x) / sum([math.exp(a) for a in range(1, 4)])\n",
    "\n",
    "out_out = [softmax(x) for x in out_in]\n",
    "out_out"
   ]
  },
  {
   "cell_type": "markdown",
   "metadata": {},
   "source": [
    "# Loss Function"
   ]
  },
  {
   "cell_type": "markdown",
   "metadata": {},
   "source": [
    "## Actual output should be [1, 0, 0], but we got [0.2827817550050109, 0.41034721034375515, 0.3417972823258826]\n",
    "\n",
    "To calculate error lets use cross-entropy"
   ]
  },
  {
   "cell_type": "code",
   "execution_count": 12,
   "metadata": {},
   "outputs": [],
   "source": [
    "def cross_entropy(ys, outs):\n",
    "    \n",
    "    def x_entropy(y, out):\n",
    "        return (y * math.log(out)) + (1 - y) * math.log(1 - out)\n",
    "    \n",
    "    sum = 0\n",
    "    for i in range(3):\n",
    "        sum += x_entropy(ys[i], outs[i])\n",
    "        \n",
    "    return -sum/3"
   ]
  },
  {
   "cell_type": "code",
   "execution_count": 15,
   "metadata": {},
   "outputs": [
    {
     "data": {
      "text/plain": [
       "0.7368196296100168"
      ]
     },
     "execution_count": 15,
     "metadata": {},
     "output_type": "execute_result"
    }
   ],
   "source": [
    "error = cross_entropy(output, out_out)\n",
    "error"
   ]
  },
  {
   "cell_type": "markdown",
   "metadata": {},
   "source": [
    "# BackPropagating the error - (Layer2 -> Output Layer) Weights"
   ]
  },
  {
   "cell_type": "code",
   "execution_count": 17,
   "metadata": {},
   "outputs": [
    {
     "data": {
      "text/plain": [
       "[-3.507897690347076, -0.5850581704372427, -0.6574424946497895]"
      ]
     },
     "execution_count": 17,
     "metadata": {},
     "output_type": "execute_result"
    }
   ],
   "source": [
    "# calculate cross entropy derivative\n",
    "\n",
    "def cross_entropy_derivative(y, out):\n",
    "    return -1 * ((y * (1/out) + (1-y)*(1/1-out)))\n",
    "\n",
    "out_layer_back_prop_values = []\n",
    "\n",
    "for i in range(3):\n",
    "    out_layer_back_prop_values.append(cross_entropy_derivative(output[i], out_out[i]))\n",
    "    \n",
    "out_layer_back_prop_values"
   ]
  }
 ],
 "metadata": {
  "kernelspec": {
   "display_name": "Python 3",
   "language": "python",
   "name": "python3"
  },
  "language_info": {
   "codemirror_mode": {
    "name": "ipython",
    "version": 3
   },
   "file_extension": ".py",
   "mimetype": "text/x-python",
   "name": "python",
   "nbconvert_exporter": "python",
   "pygments_lexer": "ipython3",
   "version": "3.5.2"
  }
 },
 "nbformat": 4,
 "nbformat_minor": 2
}
