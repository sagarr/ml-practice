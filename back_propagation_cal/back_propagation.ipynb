{
 "cells": [
  {
   "cell_type": "code",
   "execution_count": null,
   "metadata": {},
   "outputs": [],
   "source": [
    "import numpy as np\n",
    "import math"
   ]
  },
  {
   "cell_type": "code",
   "execution_count": 4,
   "metadata": {},
   "outputs": [],
   "source": [
    "input = np.array([0.1, 0.3, 0.6])\n",
    "\n",
    "# randomanly intilzed weights, 3 layer - 3 weights\n",
    "wij = np.array([[0.1, 0.5, 0.6], [0.5, 0.2, 0.6], [0.6, 0.9, 0.2]])\n",
    "wjk = np.array([[0.1, 0.5, 0.6], [0.5, 0.2, 0.6], [0.6, 0.9, 0.2]])\n",
    "wkl = np.array([[0.1, 0.5, 0.6], [0.5, 0.2, 0.6], [0.6, 0.9, 0.2]])\n",
    "\n",
    "output = np.array([1.0, 0.0, 0.0])\n",
    "\n",
    "bias = [1.0, 1.0, 1.0]"
   ]
  },
  {
   "cell_type": "markdown",
   "metadata": {},
   "source": [
    "# Layer 1 Calculation with RELU"
   ]
  },
  {
   "cell_type": "code",
   "execution_count": 5,
   "metadata": {},
   "outputs": [
    {
     "data": {
      "text/plain": [
       "[1.52, 1.65, 1.3599999999999999]"
      ]
     },
     "execution_count": 5,
     "metadata": {},
     "output_type": "execute_result"
    }
   ],
   "source": [
    "# matrix operation\n",
    "\n",
    "l1_in = np.dot(input, wij) + bias\n",
    "\n",
    "def relu(x):\n",
    "    return max(0, x)\n",
    "\n",
    "l1_out = [relu(x) for x in l1_in]\n",
    "l1_out"
   ]
  },
  {
   "cell_type": "markdown",
   "metadata": {},
   "source": [
    "# Layer 2 Calculation with Sigmoid"
   ]
  },
  {
   "cell_type": "code",
   "execution_count": null,
   "metadata": {},
   "outputs": [],
   "source": [
    "l2_in = np.dot(l1_out, wjk) + bias\n",
    "\n",
    "def sigmoid(x):\n",
    "    return 1/(1 + math.exp(-x))\n",
    "\n",
    "l2_out = [sigmoid(x) for x in l2_in]\n",
    "l2_out"
   ]
  },
  {
   "cell_type": "markdown",
   "metadata": {},
   "source": [
    "# Output Layer Calculation"
   ]
  },
  {
   "cell_type": "code",
   "execution_count": null,
   "metadata": {},
   "outputs": [],
   "source": [
    "out_in = np.dot(l2_out, wkl) + bias\n",
    "\n",
    "def softmax(x):\n",
    "    return math.exp(x) / sum([math.exp(a) for a in range(1, 4)])\n",
    "\n",
    "out_out = [softmax(x) for x in out_in]\n",
    "out_out"
   ]
  },
  {
   "cell_type": "markdown",
   "metadata": {},
   "source": [
    "# Loss Function"
   ]
  },
  {
   "cell_type": "markdown",
   "metadata": {},
   "source": [
    "## Actual output should be [1, 0, 0], but we got [0.2827817550050109, 0.41034721034375515, 0.3417972823258826]\n",
    "\n",
    "To calculate error lets use cross-entropy"
   ]
  },
  {
   "cell_type": "code",
   "execution_count": null,
   "metadata": {},
   "outputs": [],
   "source": [
    "def cross_entropy(ys, outs):\n",
    "    \n",
    "    def x_entropy(y, out):\n",
    "        return (y * math.log(out)) + (1 - y) * math.log(1 - out)\n",
    "    \n",
    "    sum = 0\n",
    "    for i in range(3):\n",
    "        sum += x_entropy(ys[i], outs[i])\n",
    "        \n",
    "    return -sum/3"
   ]
  },
  {
   "cell_type": "code",
   "execution_count": null,
   "metadata": {},
   "outputs": [],
   "source": [
    "error = cross_entropy(output, out_out)\n",
    "error"
   ]
  },
  {
   "cell_type": "markdown",
   "metadata": {},
   "source": [
    "# BackPropagating the error - (Layer2 -> Output Layer) Weights"
   ]
  },
  {
   "cell_type": "code",
   "execution_count": null,
   "metadata": {},
   "outputs": [],
   "source": [
    "# calculate cross entropy derivative\n",
    "\n",
    "def cross_entropy_derivative(y, out):\n",
    "    return -1 * ((y * (1/out) + (1-y)*(1/1-out)))\n",
    "\n",
    "out_layer_back_prop_values = []\n",
    "\n",
    "for i in range(3):\n",
    "    out_layer_back_prop_values.append(cross_entropy_derivative(output[i], out_out[i]))\n",
    "    \n",
    "out_layer_back_prop_values"
   ]
  },
  {
   "cell_type": "code",
   "execution_count": null,
   "metadata": {},
   "outputs": [],
   "source": [
    "# softmax derivative\n",
    "def softmax_derivative(o1, o2, o3):\n",
    "    return (math.exp(o1) * (math.exp(o2) + math.exp(o3))) / ((math.exp(o1) + math.exp(o2) + math.exp(o3)) * (math.exp(o1) + math.exp(o2) + math.exp(o3)))\n",
    "\n",
    "out_in_derivatives = [softmax_derivative(out_in[0], out_in[1], out_in[2]), \n",
    "                      softmax_derivative(out_in[1], out_in[0], out_in[2]),\n",
    "                      softmax_derivative(out_in[2], out_in[0], out_in[1])]\n",
    "out_in_derivatives"
   ]
  },
  {
   "cell_type": "code",
   "execution_count": null,
   "metadata": {},
   "outputs": [],
   "source": [
    "[\n",
    "    [out_layer_back_prop_values[0] * out_in_derivatives[0]]\n",
    "]"
   ]
  }
 ],
 "metadata": {
  "kernelspec": {
   "display_name": "Python 3",
   "language": "python",
   "name": "python3"
  },
  "language_info": {
   "codemirror_mode": {
    "name": "ipython",
    "version": 3
   },
   "file_extension": ".py",
   "mimetype": "text/x-python",
   "name": "python",
   "nbconvert_exporter": "python",
   "pygments_lexer": "ipython3",
   "version": "3.5.2"
  }
 },
 "nbformat": 4,
 "nbformat_minor": 2
}
